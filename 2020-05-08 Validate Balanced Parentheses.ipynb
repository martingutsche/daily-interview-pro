{
 "cells": [
  {
   "cell_type": "markdown",
   "metadata": {},
   "source": [
    "Hi, here's your problem today. This problem was recently asked by Uber:\n",
    "\n",
    "Imagine you are building a compiler. Before running any code, the compiler must check that the parentheses in the program are balanced. Every opening bracket must have a corresponding closing bracket. We can approximate this using strings.\n",
    "\n",
    "Given a string containing just the characters '(', ')', '{', '}', '[' and ']', determine if the input string is valid.\n",
    "An input string is valid if:\n",
    "- Open brackets are closed by the same type of brackets.\n",
    "- Open brackets are closed in the correct order.\n",
    "- Note that an empty string is also considered valid.\n",
    "\n",
    "Example:\n",
    "```python\n",
    "Input: \"((()))\"\n",
    "Output: True\n",
    "\n",
    "Input: \"[()]{}\"\n",
    "Output: True\n",
    "\n",
    "Input: \"({[)]\"\n",
    "Output: False\n",
    "```\n"
   ]
  },
  {
   "cell_type": "code",
   "execution_count": 76,
   "metadata": {
    "scrolled": true
   },
   "outputs": [
    {
     "name": "stdout",
     "output_type": "stream",
     "text": [
      "False\n",
      "True\n",
      "True\n"
     ]
    }
   ],
   "source": [
    "class Solution:\n",
    "    opening_braces = ['(','[','{']\n",
    "    closing_braces = [')',']','}']\n",
    "    def isValid(self, s):\n",
    "        if s == '': return True\n",
    "        \n",
    "        opened = 0\n",
    "        closed = 0\n",
    "        for i, char in enumerate(s, start=1):\n",
    "            if char in self.opening_braces: opened += 1\n",
    "            if char in self.closing_braces: closed += 1\n",
    "            try:\n",
    "                same_brace_type = self.opening_braces.index(s[:1])==self.closing_braces.index(char)\n",
    "                balenced_braces = opened==closed\n",
    "                if balenced_braces and same_brace_type:\n",
    "                    # call isValid recursively for the part in the braces and the part after the braces\n",
    "                    return self.isValid(s[1:i-1]) and self.isValid(s[i+1:-1])\n",
    "            except ValueError: \n",
    "                # Exception occurs when s[:1] or char are not in the corresponding braces list.\n",
    "                pass\n",
    "        \n",
    "        # return False if no closing brace was found\n",
    "        return False       \n",
    "        \n",
    "              \n",
    "# Test Program\n",
    "s = \"()(){(())\" \n",
    "# should return False\n",
    "print(Solution().isValid(s))\n",
    "\n",
    "s = \"\"\n",
    "# should return True\n",
    "print(Solution().isValid(s))\n",
    "\n",
    "s = \"([{}])()\"\n",
    "# should return True\n",
    "print(Solution().isValid(s))"
   ]
  }
 ],
 "metadata": {
  "kernelspec": {
   "display_name": "Python 3",
   "language": "python",
   "name": "python3"
  },
  "language_info": {
   "codemirror_mode": {
    "name": "ipython",
    "version": 3
   },
   "file_extension": ".py",
   "mimetype": "text/x-python",
   "name": "python",
   "nbconvert_exporter": "python",
   "pygments_lexer": "ipython3",
   "version": "3.7.6"
  }
 },
 "nbformat": 4,
 "nbformat_minor": 4
}
